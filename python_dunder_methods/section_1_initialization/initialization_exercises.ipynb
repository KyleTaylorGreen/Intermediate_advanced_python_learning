{
 "cells": [
  {
   "cell_type": "markdown",
   "metadata": {},
   "source": [
    "Exercise 1.1: Basic Initialization\n",
    "Create a Person class that initializes with name and age attributes. Include proper type checking in __init__ to ensure name is a string and age is an integer.\n",
    "\n"
   ]
  },
  {
   "cell_type": "code",
   "execution_count": null,
   "metadata": {},
   "outputs": [],
   "source": []
  },
  {
   "cell_type": "markdown",
   "metadata": {},
   "source": [
    "Exercise 1.2: Default Arguments\n",
    "Modify the Person class to accept optional parameters for occupation (default to \"unemployed\") and hobbies (default to an empty list).\n",
    "\n"
   ]
  },
  {
   "cell_type": "code",
   "execution_count": null,
   "metadata": {},
   "outputs": [],
   "source": []
  },
  {
   "cell_type": "markdown",
   "metadata": {},
   "source": [
    "Exercise 1.3: Understanding __new__\n",
    "Create a Singleton class that only allows a single instance to be created, regardless of how many times you call the constructor. Use __new__ to implement this pattern.\n",
    "\n"
   ]
  },
  {
   "cell_type": "code",
   "execution_count": null,
   "metadata": {},
   "outputs": [],
   "source": []
  },
  {
   "cell_type": "markdown",
   "metadata": {},
   "source": [
    "Exercise 1.4: Controlled Instance Creation\n",
    "Create a PositiveNumber class that only allows instances with positive values. If a negative value is provided, raise a ValueError. Implement this using both __new__ and __init__ approaches and compare them."
   ]
  },
  {
   "cell_type": "code",
   "execution_count": null,
   "metadata": {},
   "outputs": [],
   "source": []
  }
 ],
 "metadata": {
  "language_info": {
   "name": "python"
  }
 },
 "nbformat": 4,
 "nbformat_minor": 2
}
